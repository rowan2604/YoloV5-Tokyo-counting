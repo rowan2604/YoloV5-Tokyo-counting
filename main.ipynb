{
 "cells": [
  {
   "cell_type": "code",
   "execution_count": 134,
   "id": "d22d1a27",
   "metadata": {},
   "outputs": [
    {
     "name": "stderr",
     "output_type": "stream",
     "text": [
      "Using cache found in C:\\Users\\rowan/.cache\\torch\\hub\\ultralytics_yolov5_master\n",
      "\u001b[31m\u001b[1mrequirements:\u001b[0m YOLOv5 requirement \"tqdm>=4.64.0\" not found, attempting AutoUpdate...\n",
      "Requirement already satisfied: tqdm>=4.64.0 in c:\\users\\rowan\\anaconda\\lib\\site-packages (4.64.1)\n",
      "Requirement already satisfied: colorama in c:\\users\\rowan\\anaconda\\lib\\site-packages (from tqdm>=4.64.0) (0.4.4)\n",
      "\n",
      "\u001b[31m\u001b[1mrequirements:\u001b[0m 1 package updated per C:\\Users\\rowan\\.cache\\torch\\hub\\ultralytics_yolov5_master\\requirements.txt\n",
      "\u001b[31m\u001b[1mrequirements:\u001b[0m  \u001b[1mRestart runtime or rerun command for updates to take effect\u001b[0m\n",
      "\n",
      "YOLOv5  2023-2-7 Python-3.8.11 torch-1.13.1 CPU\n",
      "\n",
      "Fusing layers... \n",
      "YOLOv5s summary: 213 layers, 7225885 parameters, 0 gradients\n",
      "Adding AutoShape... \n"
     ]
    }
   ],
   "source": [
    "import numpy as np\n",
    "import torch\n",
    "import cv2\n",
    "\n",
    "\n",
    "cap=cv2.VideoCapture(\"tokyo.mp4\")\n",
    "path=\"\"\n",
    "\n",
    "model = torch.hub.load('ultralytics/yolov5', 'yolov5s', pretrained=True)\n",
    "\n",
    "b=model.names[2] = 'car'\n",
    "c=model.names[0] = 'person'\n",
    "\n"
   ]
  },
  {
   "cell_type": "code",
   "execution_count": 135,
   "id": "7458339c",
   "metadata": {},
   "outputs": [
    {
     "name": "stdout",
     "output_type": "stream",
     "text": [
      "1\n",
      "2\n",
      "3\n",
      "4\n"
     ]
    }
   ],
   "source": [
    "\n",
    "\n",
    "size=416\n",
    "\n",
    "count=0\n",
    "counter=0\n",
    "\n",
    "\n",
    "color=(0,0,255)\n",
    "\n",
    "cy1=780\n",
    "offset=3\n",
    "while True:\n",
    "    ret,img=cap.read()\n",
    "\n",
    "    count += 1\n",
    "    if count % 4 != 0:\n",
    "         continue\n",
    "    #img=cv2.resize(img,(1800,1200))\n",
    "    cv2.line(img,(400,cy1),(600,cy1),(0,0,255),2)\n",
    "    results=model(img,size)\n",
    "    a=results.pandas().xyxy[0]\n",
    "    #print(a)\n",
    "    for index, row in results.pandas().xyxy[0].iterrows():\n",
    "        x1=int(row['xmin'])\n",
    "        y1=int(row['ymin'])\n",
    "        x2=int(row['xmax'])\n",
    "        y2=int(row['ymax'])\n",
    "        d=(row['class'])\n",
    "        conf=(row['confidence'])\n",
    "        if d==2:\n",
    "            if conf>0.4 :\n",
    "                cv2.rectangle(img,(x1,y1),(x2,y2),(0,255,0),2)\n",
    "                rectx1,recty1=((x1+x2)/2,(y1+y2)/2)\n",
    "                rectcenter=int(rectx1),int(recty1)\n",
    "                cx=rectcenter[0]\n",
    "                cy=rectcenter[1]\n",
    "                cv2.circle(img,(cx,cy),10,(255,0,0),-1)\n",
    "                cv2.putText(img,str(conf),(x1,y1),cv2.FONT_HERSHEY_PLAIN,2,(255,255,255),2)\n",
    "            if cy<(cy1+offset) and cy>(cy1-offset):\n",
    "                counter+=1\n",
    "                cv2.line(img,(400,cy1),(600,cy1),(0,255,127),2)\n",
    "                print(counter)\n",
    "                cv2.putText(img,str(counter),(x2,y2),cv2.FONT_HERSHEY_PLAIN,2,(255,255,255),2)\n",
    "        if d==0:\n",
    "            cv2.rectangle(img,(x1,y1),(x2,y2),(0,0,255),2)\n",
    "            rectx1,recty1=((x1+x2)/2,(y1+y2)/2)\n",
    "            rectcenter=int(rectx1),int(recty1)\n",
    "            cx=rectcenter[0]\n",
    "            cy=rectcenter[1]\n",
    "            cv2.circle(img,(cx,cy),3,(255,0,0),-1)\n",
    "            cv2.putText(img,str(c),(x1,y1),cv2.FONT_HERSHEY_PLAIN,2,(255,0,0),2)\n",
    "    cv2.imshow(\"IMG\",img)\n",
    "    if cv2.waitKey(1)== ord('q'):\n",
    "        break\n",
    "cap.release()\n",
    "cv2.destroyAllWindows()\n",
    "    "
   ]
  },
  {
   "cell_type": "code",
   "execution_count": null,
   "id": "d57d3b40",
   "metadata": {},
   "outputs": [],
   "source": []
  }
 ],
 "metadata": {
  "kernelspec": {
   "display_name": "Python 3 (ipykernel)",
   "language": "python",
   "name": "python3"
  },
  "language_info": {
   "codemirror_mode": {
    "name": "ipython",
    "version": 3
   },
   "file_extension": ".py",
   "mimetype": "text/x-python",
   "name": "python",
   "nbconvert_exporter": "python",
   "pygments_lexer": "ipython3",
   "version": "3.8.11"
  }
 },
 "nbformat": 4,
 "nbformat_minor": 5
}
